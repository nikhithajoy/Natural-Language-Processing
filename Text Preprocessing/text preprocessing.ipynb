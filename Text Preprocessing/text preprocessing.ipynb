{
 "cells": [
  {
   "cell_type": "code",
   "execution_count": 2,
   "metadata": {},
   "outputs": [
    {
     "name": "stdout",
     "output_type": "stream",
     "text": [
      "Collecting nltk\n",
      "  Downloading nltk-3.8.1-py3-none-any.whl.metadata (2.8 kB)\n",
      "Requirement already satisfied: click in c:\\users\\nikhi\\appdata\\local\\programs\\python\\python312\\lib\\site-packages (from nltk) (8.1.7)\n",
      "Collecting joblib (from nltk)\n",
      "  Downloading joblib-1.4.0-py3-none-any.whl.metadata (5.4 kB)\n",
      "Collecting regex>=2021.8.3 (from nltk)\n",
      "  Downloading regex-2023.12.25-cp312-cp312-win_amd64.whl.metadata (41 kB)\n",
      "     ---------------------------------------- 0.0/42.0 kB ? eta -:--:--\n",
      "     --------- ------------------------------ 10.2/42.0 kB ? eta -:--:--\n",
      "     -------------------------------------- 42.0/42.0 kB 511.8 kB/s eta 0:00:00\n",
      "Requirement already satisfied: tqdm in c:\\users\\nikhi\\appdata\\local\\programs\\python\\python312\\lib\\site-packages (from nltk) (4.66.2)\n",
      "Requirement already satisfied: colorama in c:\\users\\nikhi\\appdata\\local\\programs\\python\\python312\\lib\\site-packages (from click->nltk) (0.4.6)\n",
      "Downloading nltk-3.8.1-py3-none-any.whl (1.5 MB)\n",
      "   ---------------------------------------- 0.0/1.5 MB ? eta -:--:--\n",
      "   - -------------------------------------- 0.0/1.5 MB 991.0 kB/s eta 0:00:02\n",
      "   -- ------------------------------------- 0.1/1.5 MB 1.2 MB/s eta 0:00:02\n",
      "   --- ------------------------------------ 0.1/1.5 MB 1.1 MB/s eta 0:00:02\n",
      "   ----- ---------------------------------- 0.2/1.5 MB 1.1 MB/s eta 0:00:02\n",
      "   ----- ---------------------------------- 0.2/1.5 MB 1.1 MB/s eta 0:00:02\n",
      "   ------ --------------------------------- 0.3/1.5 MB 927.4 kB/s eta 0:00:02\n",
      "   -------- ------------------------------- 0.3/1.5 MB 951.8 kB/s eta 0:00:02\n",
      "   --------- ------------------------------ 0.4/1.5 MB 969.8 kB/s eta 0:00:02\n",
      "   ---------- ----------------------------- 0.4/1.5 MB 971.5 kB/s eta 0:00:02\n",
      "   ----------- ---------------------------- 0.4/1.5 MB 984.2 kB/s eta 0:00:02\n",
      "   ------------- -------------------------- 0.5/1.5 MB 962.6 kB/s eta 0:00:02\n",
      "   -------------- ------------------------- 0.5/1.5 MB 983.5 kB/s eta 0:00:01\n",
      "   --------------- ------------------------ 0.6/1.5 MB 965.4 kB/s eta 0:00:01\n",
      "   ---------------- ----------------------- 0.6/1.5 MB 960.0 kB/s eta 0:00:01\n",
      "   ------------------ --------------------- 0.7/1.5 MB 975.9 kB/s eta 0:00:01\n",
      "   ------------------- -------------------- 0.7/1.5 MB 983.0 kB/s eta 0:00:01\n",
      "   -------------------- ------------------- 0.8/1.5 MB 976.5 kB/s eta 0:00:01\n",
      "   --------------------- ------------------ 0.8/1.5 MB 989.4 kB/s eta 0:00:01\n",
      "   ----------------------- ---------------- 0.9/1.5 MB 989.5 kB/s eta 0:00:01\n",
      "   ------------------------ --------------- 0.9/1.5 MB 1.0 MB/s eta 0:00:01\n",
      "   -------------------------- ------------- 1.0/1.5 MB 999.0 kB/s eta 0:00:01\n",
      "   --------------------------- ------------ 1.0/1.5 MB 993.2 kB/s eta 0:00:01\n",
      "   ---------------------------- ----------- 1.1/1.5 MB 987.9 kB/s eta 0:00:01\n",
      "   ----------------------------- ---------- 1.1/1.5 MB 983.0 kB/s eta 0:00:01\n",
      "   ------------------------------ --------- 1.2/1.5 MB 974.8 kB/s eta 0:00:01\n",
      "   ------------------------------- -------- 1.2/1.5 MB 966.0 kB/s eta 0:00:01\n",
      "   -------------------------------- ------- 1.2/1.5 MB 959.2 kB/s eta 0:00:01\n",
      "   ---------------------------------- ----- 1.3/1.5 MB 971.6 kB/s eta 0:00:01\n",
      "   ----------------------------------- ---- 1.4/1.5 MB 975.6 kB/s eta 0:00:01\n",
      "   ------------------------------------- -- 1.4/1.5 MB 969.1 kB/s eta 0:00:01\n",
      "   -------------------------------------- - 1.5/1.5 MB 979.8 kB/s eta 0:00:01\n",
      "   ---------------------------------------  1.5/1.5 MB 986.8 kB/s eta 0:00:01\n",
      "   ---------------------------------------- 1.5/1.5 MB 969.9 kB/s eta 0:00:00\n",
      "Downloading regex-2023.12.25-cp312-cp312-win_amd64.whl (268 kB)\n",
      "   ---------------------------------------- 0.0/268.9 kB ? eta -:--:--\n",
      "   ------ --------------------------------- 41.0/268.9 kB 1.9 MB/s eta 0:00:01\n",
      "   ---------------- ----------------------- 112.6/268.9 kB 1.6 MB/s eta 0:00:01\n",
      "   ---------------------- ----------------- 153.6/268.9 kB 1.3 MB/s eta 0:00:01\n",
      "   ----------------------------------- ---- 235.5/268.9 kB 1.4 MB/s eta 0:00:01\n",
      "   ---------------------------------------- 268.9/268.9 kB 1.5 MB/s eta 0:00:00\n",
      "Downloading joblib-1.4.0-py3-none-any.whl (301 kB)\n",
      "   ---------------------------------------- 0.0/301.2 kB ? eta -:--:--\n",
      "   ----- --------------------------------- 41.0/301.2 kB 960.0 kB/s eta 0:00:01\n",
      "   ---------------- ----------------------- 122.9/301.2 kB 1.4 MB/s eta 0:00:01\n",
      "   ----------------------- ---------------- 174.1/301.2 kB 1.3 MB/s eta 0:00:01\n",
      "   ----------------------------- ---------- 225.3/301.2 kB 1.3 MB/s eta 0:00:01\n",
      "   ---------------------------------------- 301.2/301.2 kB 1.2 MB/s eta 0:00:00\n",
      "Installing collected packages: regex, joblib, nltk\n",
      "Successfully installed joblib-1.4.0 nltk-3.8.1 regex-2023.12.25\n",
      "Note: you may need to restart the kernel to use updated packages.\n"
     ]
    }
   ],
   "source": [
    "pip install nltk"
   ]
  },
  {
   "cell_type": "code",
   "execution_count": 3,
   "metadata": {},
   "outputs": [],
   "source": [
    "import nltk\n",
    "from nltk.corpus import stopwords\n",
    "from nltk.tokenize import word_tokenize\n",
    "from nltk.stem import PorterStemmer, WordNetLemmatizer\n",
    "import string"
   ]
  },
  {
   "cell_type": "code",
   "execution_count": 7,
   "metadata": {},
   "outputs": [
    {
     "name": "stderr",
     "output_type": "stream",
     "text": [
      "[nltk_data] Downloading package punkt to\n",
      "[nltk_data]     C:\\Users\\nikhi\\AppData\\Roaming\\nltk_data...\n",
      "[nltk_data]   Unzipping tokenizers\\punkt.zip.\n"
     ]
    },
    {
     "data": {
      "text/plain": [
       "True"
      ]
     },
     "execution_count": 7,
     "metadata": {},
     "output_type": "execute_result"
    }
   ],
   "source": [
    "nltk.download('punkt')"
   ]
  },
  {
   "cell_type": "code",
   "execution_count": 8,
   "metadata": {},
   "outputs": [
    {
     "name": "stderr",
     "output_type": "stream",
     "text": [
      "[nltk_data] Downloading package stopwords to\n",
      "[nltk_data]     C:\\Users\\nikhi\\AppData\\Roaming\\nltk_data...\n",
      "[nltk_data]   Unzipping corpora\\stopwords.zip.\n"
     ]
    },
    {
     "data": {
      "text/plain": [
       "True"
      ]
     },
     "execution_count": 8,
     "metadata": {},
     "output_type": "execute_result"
    }
   ],
   "source": [
    "nltk.download('stopwords')"
   ]
  },
  {
   "cell_type": "code",
   "execution_count": 9,
   "metadata": {},
   "outputs": [
    {
     "name": "stderr",
     "output_type": "stream",
     "text": [
      "[nltk_data] Downloading package wordnet to\n",
      "[nltk_data]     C:\\Users\\nikhi\\AppData\\Roaming\\nltk_data...\n"
     ]
    },
    {
     "data": {
      "text/plain": [
       "True"
      ]
     },
     "execution_count": 9,
     "metadata": {},
     "output_type": "execute_result"
    }
   ],
   "source": [
    "nltk.download('wordnet')"
   ]
  },
  {
   "cell_type": "code",
   "execution_count": 10,
   "metadata": {},
   "outputs": [],
   "source": [
    "def preprocess_text(text):\n",
    "    # Tokenization\n",
    "    tokens = word_tokenize(text.lower())  # Convert text to lowercase and tokenize\n",
    "\n",
    "    # Remove stopwords and punctuation\n",
    "    stop_words = set(stopwords.words('english'))\n",
    "    tokens = [token for token in tokens if token not in stop_words and token not in string.punctuation]\n",
    "\n",
    "    # Stemming\n",
    "    stemmer = PorterStemmer()\n",
    "    stemmed_tokens = [stemmer.stem(token) for token in tokens]\n",
    "\n",
    "    # Lemmatization\n",
    "    lemmatizer = WordNetLemmatizer()\n",
    "    lemmatized_tokens = [lemmatizer.lemmatize(token) for token in tokens]\n",
    "\n",
    "    return tokens, stemmed_tokens, lemmatized_tokens"
   ]
  },
  {
   "cell_type": "code",
   "execution_count": 11,
   "metadata": {},
   "outputs": [],
   "source": [
    "# Example text for preprocessing\n",
    "text = \"The quick brown fox jumps over the lazy dog. Dogs are friendly animals.\"\n",
    "\n",
    "# Perform text preprocessing\n",
    "tokens, stemmed_tokens, lemmatized_tokens = preprocess_text(text)"
   ]
  },
  {
   "cell_type": "code",
   "execution_count": 12,
   "metadata": {},
   "outputs": [
    {
     "name": "stdout",
     "output_type": "stream",
     "text": [
      "Original Tokens: ['quick', 'brown', 'fox', 'jumps', 'lazy', 'dog', 'dogs', 'friendly', 'animals']\n",
      "Stemmed Tokens: ['quick', 'brown', 'fox', 'jump', 'lazi', 'dog', 'dog', 'friendli', 'anim']\n",
      "Lemmatized Tokens: ['quick', 'brown', 'fox', 'jump', 'lazy', 'dog', 'dog', 'friendly', 'animal']\n"
     ]
    }
   ],
   "source": [
    "# Print results\n",
    "print(\"Original Tokens:\", tokens)\n",
    "print(\"Stemmed Tokens:\", stemmed_tokens)\n",
    "print(\"Lemmatized Tokens:\", lemmatized_tokens)"
   ]
  },
  {
   "cell_type": "code",
   "execution_count": null,
   "metadata": {},
   "outputs": [],
   "source": []
  }
 ],
 "metadata": {
  "kernelspec": {
   "display_name": "Python 3",
   "language": "python",
   "name": "python3"
  },
  "language_info": {
   "codemirror_mode": {
    "name": "ipython",
    "version": 3
   },
   "file_extension": ".py",
   "mimetype": "text/x-python",
   "name": "python",
   "nbconvert_exporter": "python",
   "pygments_lexer": "ipython3",
   "version": "3.12.3"
  }
 },
 "nbformat": 4,
 "nbformat_minor": 2
}
